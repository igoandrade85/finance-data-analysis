{
 "cells": [
  {
   "cell_type": "markdown",
   "id": "06fe4c6f-8e8e-4525-a4df-8c0185b71da4",
   "metadata": {},
   "source": [
    "# Projeto de Análise de Dados da Covid-19"
   ]
  },
  {
   "cell_type": "markdown",
   "id": "51d73ee2-011f-4727-9226-8e4c4e177d4b",
   "metadata": {},
   "source": [
    "## Bibliotecas importadas"
   ]
  },
  {
   "cell_type": "code",
   "execution_count": 1,
   "id": "b02f4147-dfc6-4ea2-92da-cdb94172cd9a",
   "metadata": {},
   "outputs": [],
   "source": [
    "import numpy as np\n",
    "import pandas as pd\n",
    "import seaborn as sns\n",
    "import matplotlib.pyplot as plt\n",
    "plt.style.use('seaborn')"
   ]
  },
  {
   "cell_type": "markdown",
   "id": "7e0a93f4-2980-4ba8-862a-c51e71518796",
   "metadata": {},
   "source": [
    "## Obtenção dos dados"
   ]
  },
  {
   "cell_type": "code",
   "execution_count": 2,
   "id": "8e295327-c8a1-4a7e-b46c-8d6a4c5f5bae",
   "metadata": {},
   "outputs": [],
   "source": [
    "data = pd.read_csv(\"data/covid19_italy_province.csv\")"
   ]
  },
  {
   "cell_type": "code",
   "execution_count": 3,
   "id": "13df7646-b50d-4bb5-920d-8e5998be23a3",
   "metadata": {},
   "outputs": [
    {
     "data": {
      "text/html": [
       "<div>\n",
       "<style scoped>\n",
       "    .dataframe tbody tr th:only-of-type {\n",
       "        vertical-align: middle;\n",
       "    }\n",
       "\n",
       "    .dataframe tbody tr th {\n",
       "        vertical-align: top;\n",
       "    }\n",
       "\n",
       "    .dataframe thead th {\n",
       "        text-align: right;\n",
       "    }\n",
       "</style>\n",
       "<table border=\"1\" class=\"dataframe\">\n",
       "  <thead>\n",
       "    <tr style=\"text-align: right;\">\n",
       "      <th></th>\n",
       "      <th>SNo</th>\n",
       "      <th>Date</th>\n",
       "      <th>Country</th>\n",
       "      <th>RegionCode</th>\n",
       "      <th>RegionName</th>\n",
       "      <th>ProvinceCode</th>\n",
       "      <th>ProvinceName</th>\n",
       "      <th>ProvinceAbbreviation</th>\n",
       "      <th>Latitude</th>\n",
       "      <th>Longitude</th>\n",
       "      <th>TotalPositiveCases</th>\n",
       "    </tr>\n",
       "  </thead>\n",
       "  <tbody>\n",
       "    <tr>\n",
       "      <th>0</th>\n",
       "      <td>0</td>\n",
       "      <td>2020-02-24T18:00:00</td>\n",
       "      <td>ITA</td>\n",
       "      <td>13</td>\n",
       "      <td>Abruzzo</td>\n",
       "      <td>66</td>\n",
       "      <td>L'Aquila</td>\n",
       "      <td>AQ</td>\n",
       "      <td>42.351222</td>\n",
       "      <td>13.398438</td>\n",
       "      <td>0</td>\n",
       "    </tr>\n",
       "    <tr>\n",
       "      <th>1</th>\n",
       "      <td>1</td>\n",
       "      <td>2020-02-24T18:00:00</td>\n",
       "      <td>ITA</td>\n",
       "      <td>13</td>\n",
       "      <td>Abruzzo</td>\n",
       "      <td>67</td>\n",
       "      <td>Teramo</td>\n",
       "      <td>TE</td>\n",
       "      <td>42.658918</td>\n",
       "      <td>13.704400</td>\n",
       "      <td>0</td>\n",
       "    </tr>\n",
       "    <tr>\n",
       "      <th>2</th>\n",
       "      <td>2</td>\n",
       "      <td>2020-02-24T18:00:00</td>\n",
       "      <td>ITA</td>\n",
       "      <td>13</td>\n",
       "      <td>Abruzzo</td>\n",
       "      <td>68</td>\n",
       "      <td>Pescara</td>\n",
       "      <td>PE</td>\n",
       "      <td>42.464584</td>\n",
       "      <td>14.213648</td>\n",
       "      <td>0</td>\n",
       "    </tr>\n",
       "    <tr>\n",
       "      <th>3</th>\n",
       "      <td>3</td>\n",
       "      <td>2020-02-24T18:00:00</td>\n",
       "      <td>ITA</td>\n",
       "      <td>13</td>\n",
       "      <td>Abruzzo</td>\n",
       "      <td>69</td>\n",
       "      <td>Chieti</td>\n",
       "      <td>CH</td>\n",
       "      <td>42.351032</td>\n",
       "      <td>14.167546</td>\n",
       "      <td>0</td>\n",
       "    </tr>\n",
       "    <tr>\n",
       "      <th>4</th>\n",
       "      <td>4</td>\n",
       "      <td>2020-02-24T18:00:00</td>\n",
       "      <td>ITA</td>\n",
       "      <td>13</td>\n",
       "      <td>Abruzzo</td>\n",
       "      <td>979</td>\n",
       "      <td>In fase di definizione/aggiornamento</td>\n",
       "      <td>NaN</td>\n",
       "      <td>NaN</td>\n",
       "      <td>NaN</td>\n",
       "      <td>0</td>\n",
       "    </tr>\n",
       "  </tbody>\n",
       "</table>\n",
       "</div>"
      ],
      "text/plain": [
       "   SNo                 Date Country  RegionCode RegionName  ProvinceCode  \\\n",
       "0    0  2020-02-24T18:00:00     ITA          13    Abruzzo            66   \n",
       "1    1  2020-02-24T18:00:00     ITA          13    Abruzzo            67   \n",
       "2    2  2020-02-24T18:00:00     ITA          13    Abruzzo            68   \n",
       "3    3  2020-02-24T18:00:00     ITA          13    Abruzzo            69   \n",
       "4    4  2020-02-24T18:00:00     ITA          13    Abruzzo           979   \n",
       "\n",
       "                           ProvinceName ProvinceAbbreviation   Latitude  \\\n",
       "0                              L'Aquila                   AQ  42.351222   \n",
       "1                                Teramo                   TE  42.658918   \n",
       "2                               Pescara                   PE  42.464584   \n",
       "3                                Chieti                   CH  42.351032   \n",
       "4  In fase di definizione/aggiornamento                  NaN        NaN   \n",
       "\n",
       "   Longitude  TotalPositiveCases  \n",
       "0  13.398438                   0  \n",
       "1  13.704400                   0  \n",
       "2  14.213648                   0  \n",
       "3  14.167546                   0  \n",
       "4        NaN                   0  "
      ]
     },
     "execution_count": 3,
     "metadata": {},
     "output_type": "execute_result"
    }
   ],
   "source": [
    "data.head()"
   ]
  },
  {
   "cell_type": "code",
   "execution_count": null,
   "id": "d863acb6-514b-42a1-b3af-ecf69f23ac86",
   "metadata": {},
   "outputs": [],
   "source": []
  }
 ],
 "metadata": {
  "kernelspec": {
   "display_name": "venv",
   "language": "python",
   "name": "venv"
  },
  "language_info": {
   "codemirror_mode": {
    "name": "ipython",
    "version": 3
   },
   "file_extension": ".py",
   "mimetype": "text/x-python",
   "name": "python",
   "nbconvert_exporter": "python",
   "pygments_lexer": "ipython3",
   "version": "3.9.12"
  }
 },
 "nbformat": 4,
 "nbformat_minor": 5
}
