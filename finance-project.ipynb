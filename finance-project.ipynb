{
 "cells": [
  {
   "cell_type": "markdown",
   "id": "06fe4c6f-8e8e-4525-a4df-8c0185b71da4",
   "metadata": {},
   "source": [
    "# Análise de Dados Financeiros com Python"
   ]
  },
  {
   "cell_type": "markdown",
   "id": "51d73ee2-011f-4727-9226-8e4c4e177d4b",
   "metadata": {},
   "source": [
    "# Bibliotecas importadas"
   ]
  },
  {
   "cell_type": "code",
   "execution_count": 61,
   "id": "b02f4147-dfc6-4ea2-92da-cdb94172cd9a",
   "metadata": {},
   "outputs": [],
   "source": [
    "import numpy as np\n",
    "import pandas as pd\n",
    "import yfinance as yf\n",
    "import pandas_datareader as pdr\n",
    "import datetime as dt\n",
    "import seaborn as sns\n",
    "import matplotlib.pyplot as plt\n",
    "plt.style.use('seaborn')"
   ]
  },
  {
   "cell_type": "markdown",
   "id": "7e0a93f4-2980-4ba8-862a-c51e71518796",
   "metadata": {},
   "source": [
    "## Obtenção dos dados"
   ]
  },
  {
   "cell_type": "code",
   "execution_count": 62,
   "id": "004ac8de-3dca-45ef-8f78-9a769f576818",
   "metadata": {},
   "outputs": [],
   "source": [
    "ticker = 'AAPL'\n",
    "start = '2020-01-27'\n",
    "end = '2021-01-27'"
   ]
  },
  {
   "cell_type": "code",
   "execution_count": 63,
   "id": "8e295327-c8a1-4a7e-b46c-8d6a4c5f5bae",
   "metadata": {},
   "outputs": [],
   "source": [
    "data = yf.download(\n",
    "    tickers=ticker, \n",
    "    start=start, \n",
    "    end=end, \n",
    "    progress=False\n",
    ")"
   ]
  },
  {
   "cell_type": "code",
   "execution_count": 64,
   "id": "13df7646-b50d-4bb5-920d-8e5998be23a3",
   "metadata": {},
   "outputs": [
    {
     "data": {
      "text/html": [
       "<div>\n",
       "<style scoped>\n",
       "    .dataframe tbody tr th:only-of-type {\n",
       "        vertical-align: middle;\n",
       "    }\n",
       "\n",
       "    .dataframe tbody tr th {\n",
       "        vertical-align: top;\n",
       "    }\n",
       "\n",
       "    .dataframe thead th {\n",
       "        text-align: right;\n",
       "    }\n",
       "</style>\n",
       "<table border=\"1\" class=\"dataframe\">\n",
       "  <thead>\n",
       "    <tr style=\"text-align: right;\">\n",
       "      <th></th>\n",
       "      <th>Open</th>\n",
       "      <th>High</th>\n",
       "      <th>Low</th>\n",
       "      <th>Close</th>\n",
       "      <th>Adj Close</th>\n",
       "      <th>Volume</th>\n",
       "    </tr>\n",
       "    <tr>\n",
       "      <th>Date</th>\n",
       "      <th></th>\n",
       "      <th></th>\n",
       "      <th></th>\n",
       "      <th></th>\n",
       "      <th></th>\n",
       "      <th></th>\n",
       "    </tr>\n",
       "  </thead>\n",
       "  <tbody>\n",
       "    <tr>\n",
       "      <th>2020-01-27</th>\n",
       "      <td>77.514999</td>\n",
       "      <td>77.942497</td>\n",
       "      <td>76.220001</td>\n",
       "      <td>77.237503</td>\n",
       "      <td>75.898651</td>\n",
       "      <td>161940000</td>\n",
       "    </tr>\n",
       "    <tr>\n",
       "      <th>2020-01-28</th>\n",
       "      <td>78.150002</td>\n",
       "      <td>79.599998</td>\n",
       "      <td>78.047501</td>\n",
       "      <td>79.422501</td>\n",
       "      <td>78.045776</td>\n",
       "      <td>162234000</td>\n",
       "    </tr>\n",
       "    <tr>\n",
       "      <th>2020-01-29</th>\n",
       "      <td>81.112503</td>\n",
       "      <td>81.962502</td>\n",
       "      <td>80.345001</td>\n",
       "      <td>81.084999</td>\n",
       "      <td>79.679451</td>\n",
       "      <td>216229200</td>\n",
       "    </tr>\n",
       "    <tr>\n",
       "      <th>2020-01-30</th>\n",
       "      <td>80.135002</td>\n",
       "      <td>81.022499</td>\n",
       "      <td>79.687500</td>\n",
       "      <td>80.967499</td>\n",
       "      <td>79.563995</td>\n",
       "      <td>126743200</td>\n",
       "    </tr>\n",
       "    <tr>\n",
       "      <th>2020-01-31</th>\n",
       "      <td>80.232498</td>\n",
       "      <td>80.669998</td>\n",
       "      <td>77.072502</td>\n",
       "      <td>77.377502</td>\n",
       "      <td>76.036217</td>\n",
       "      <td>199588400</td>\n",
       "    </tr>\n",
       "  </tbody>\n",
       "</table>\n",
       "</div>"
      ],
      "text/plain": [
       "                 Open       High        Low      Close  Adj Close     Volume\n",
       "Date                                                                        \n",
       "2020-01-27  77.514999  77.942497  76.220001  77.237503  75.898651  161940000\n",
       "2020-01-28  78.150002  79.599998  78.047501  79.422501  78.045776  162234000\n",
       "2020-01-29  81.112503  81.962502  80.345001  81.084999  79.679451  216229200\n",
       "2020-01-30  80.135002  81.022499  79.687500  80.967499  79.563995  126743200\n",
       "2020-01-31  80.232498  80.669998  77.072502  77.377502  76.036217  199588400"
      ]
     },
     "execution_count": 64,
     "metadata": {},
     "output_type": "execute_result"
    }
   ],
   "source": [
    "data.head()"
   ]
  },
  {
   "cell_type": "code",
   "execution_count": 65,
   "id": "d863acb6-514b-42a1-b3af-ecf69f23ac86",
   "metadata": {},
   "outputs": [],
   "source": [
    "data.to_csv('data/aapl.csv')"
   ]
  },
  {
   "cell_type": "markdown",
   "id": "2274d1ee-c6f0-4a75-9a8a-08c474d3e03f",
   "metadata": {},
   "source": [
    "Cálculo do preço de fechamento normalizado"
   ]
  },
  {
   "cell_type": "code",
   "execution_count": 66,
   "id": "9d9d0fca-afb3-4666-9735-0984e02a98ef",
   "metadata": {},
   "outputs": [],
   "source": [
    "norm = data['Close'] / data['Close'].iloc[0]"
   ]
  },
  {
   "cell_type": "code",
   "execution_count": 67,
   "id": "6f7ec585-b9ee-4fbe-988c-e607e445bff9",
   "metadata": {},
   "outputs": [
    {
     "data": {
      "text/plain": [
       "Date\n",
       "2020-01-27    1.000000\n",
       "2020-01-28    1.028289\n",
       "2020-01-29    1.049814\n",
       "2020-01-30    1.048293\n",
       "2020-01-31    1.001813\n",
       "                ...   \n",
       "2021-01-20    1.709403\n",
       "2021-01-21    1.772067\n",
       "2021-01-22    1.800550\n",
       "2021-01-25    1.850396\n",
       "2021-01-26    1.853504\n",
       "Name: Close, Length: 253, dtype: float64"
      ]
     },
     "execution_count": 67,
     "metadata": {},
     "output_type": "execute_result"
    }
   ],
   "source": [
    "norm"
   ]
  },
  {
   "cell_type": "code",
   "execution_count": 68,
   "id": "df8c9eb9-d607-4f50-91b9-57e55c47811f",
   "metadata": {},
   "outputs": [],
   "source": [
    "data['Daily Chg'] = data['Close'] - data['Open']\n",
    "data['Normalized'] = norm"
   ]
  },
  {
   "cell_type": "code",
   "execution_count": 69,
   "id": "88b6701a-3008-49c8-a04d-9edf70caf34e",
   "metadata": {},
   "outputs": [
    {
     "data": {
      "text/html": [
       "<div>\n",
       "<style scoped>\n",
       "    .dataframe tbody tr th:only-of-type {\n",
       "        vertical-align: middle;\n",
       "    }\n",
       "\n",
       "    .dataframe tbody tr th {\n",
       "        vertical-align: top;\n",
       "    }\n",
       "\n",
       "    .dataframe thead th {\n",
       "        text-align: right;\n",
       "    }\n",
       "</style>\n",
       "<table border=\"1\" class=\"dataframe\">\n",
       "  <thead>\n",
       "    <tr style=\"text-align: right;\">\n",
       "      <th></th>\n",
       "      <th>Open</th>\n",
       "      <th>High</th>\n",
       "      <th>Low</th>\n",
       "      <th>Close</th>\n",
       "      <th>Adj Close</th>\n",
       "      <th>Volume</th>\n",
       "      <th>Daily Chg</th>\n",
       "      <th>Normalized</th>\n",
       "    </tr>\n",
       "    <tr>\n",
       "      <th>Date</th>\n",
       "      <th></th>\n",
       "      <th></th>\n",
       "      <th></th>\n",
       "      <th></th>\n",
       "      <th></th>\n",
       "      <th></th>\n",
       "      <th></th>\n",
       "      <th></th>\n",
       "    </tr>\n",
       "  </thead>\n",
       "  <tbody>\n",
       "    <tr>\n",
       "      <th>2020-01-27</th>\n",
       "      <td>77.514999</td>\n",
       "      <td>77.942497</td>\n",
       "      <td>76.220001</td>\n",
       "      <td>77.237503</td>\n",
       "      <td>75.898651</td>\n",
       "      <td>161940000</td>\n",
       "      <td>-0.277496</td>\n",
       "      <td>1.000000</td>\n",
       "    </tr>\n",
       "    <tr>\n",
       "      <th>2020-01-28</th>\n",
       "      <td>78.150002</td>\n",
       "      <td>79.599998</td>\n",
       "      <td>78.047501</td>\n",
       "      <td>79.422501</td>\n",
       "      <td>78.045776</td>\n",
       "      <td>162234000</td>\n",
       "      <td>1.272499</td>\n",
       "      <td>1.028289</td>\n",
       "    </tr>\n",
       "    <tr>\n",
       "      <th>2020-01-29</th>\n",
       "      <td>81.112503</td>\n",
       "      <td>81.962502</td>\n",
       "      <td>80.345001</td>\n",
       "      <td>81.084999</td>\n",
       "      <td>79.679451</td>\n",
       "      <td>216229200</td>\n",
       "      <td>-0.027504</td>\n",
       "      <td>1.049814</td>\n",
       "    </tr>\n",
       "    <tr>\n",
       "      <th>2020-01-30</th>\n",
       "      <td>80.135002</td>\n",
       "      <td>81.022499</td>\n",
       "      <td>79.687500</td>\n",
       "      <td>80.967499</td>\n",
       "      <td>79.563995</td>\n",
       "      <td>126743200</td>\n",
       "      <td>0.832497</td>\n",
       "      <td>1.048293</td>\n",
       "    </tr>\n",
       "    <tr>\n",
       "      <th>2020-01-31</th>\n",
       "      <td>80.232498</td>\n",
       "      <td>80.669998</td>\n",
       "      <td>77.072502</td>\n",
       "      <td>77.377502</td>\n",
       "      <td>76.036217</td>\n",
       "      <td>199588400</td>\n",
       "      <td>-2.854996</td>\n",
       "      <td>1.001813</td>\n",
       "    </tr>\n",
       "  </tbody>\n",
       "</table>\n",
       "</div>"
      ],
      "text/plain": [
       "                 Open       High        Low      Close  Adj Close     Volume  \\\n",
       "Date                                                                           \n",
       "2020-01-27  77.514999  77.942497  76.220001  77.237503  75.898651  161940000   \n",
       "2020-01-28  78.150002  79.599998  78.047501  79.422501  78.045776  162234000   \n",
       "2020-01-29  81.112503  81.962502  80.345001  81.084999  79.679451  216229200   \n",
       "2020-01-30  80.135002  81.022499  79.687500  80.967499  79.563995  126743200   \n",
       "2020-01-31  80.232498  80.669998  77.072502  77.377502  76.036217  199588400   \n",
       "\n",
       "            Daily Chg  Normalized  \n",
       "Date                               \n",
       "2020-01-27  -0.277496    1.000000  \n",
       "2020-01-28   1.272499    1.028289  \n",
       "2020-01-29  -0.027504    1.049814  \n",
       "2020-01-30   0.832497    1.048293  \n",
       "2020-01-31  -2.854996    1.001813  "
      ]
     },
     "execution_count": 69,
     "metadata": {},
     "output_type": "execute_result"
    }
   ],
   "source": [
    "data.head()"
   ]
  },
  {
   "cell_type": "markdown",
   "id": "91d8bfcc-ae15-46eb-b8ce-233642c52bdf",
   "metadata": {},
   "source": [
    "## Visualizações gráficas"
   ]
  },
  {
   "cell_type": "code",
   "execution_count": 58,
   "id": "97ec291e-65de-4320-a6ea-bca27765a816",
   "metadata": {},
   "outputs": [
    {
     "data": {
      "text/plain": [
       "'27/01/2020'"
      ]
     },
     "execution_count": 58,
     "metadata": {},
     "output_type": "execute_result"
    }
   ],
   "source": [
    "datetime.strftime(data.index[0], \"%d/%m/%Y\")"
   ]
  },
  {
   "cell_type": "code",
   "execution_count": 70,
   "id": "212791a2-7d38-4c00-8821-fb00e5af3787",
   "metadata": {},
   "outputs": [
    {
     "data": {
      "image/png": "[encoded data removed]",
      "text/plain": [
       "<Figure size 576x396 with 1 Axes>"
      ]
     },
     "metadata": {},
     "output_type": "display_data"
    }
   ],
   "source": [
    "fig, ax =  plt.subplots()\n",
    "data['Close'].plot(ax=ax, lw=1)\n",
    "ax.set_title(f'Preço de fechamento da {ticker} entre {dt.datetime.strftime(data.index[0], \"%d/%m/%Y\")} e {dt.datetime.strftime(data.index[-1], \"%d/%m/%Y\")}')\n",
    "ax.set_ylabel('Preço de fechamento (U$)')\n",
    "ax.set_xlabel('Data')\n",
    "plt.show()"
   ]
  },
  {
   "cell_type": "code",
   "execution_count": 71,
   "id": "ef30662c-64c4-453f-8e0d-4e9495bcd5c4",
   "metadata": {},
   "outputs": [
    {
     "data": {
      "image/png": "[encoded data removed]",
      "text/plain": [
       "<Figure size 576x396 with 4 Axes>"
      ]
     },
     "metadata": {},
     "output_type": "display_data"
    }
   ],
   "source": [
    "fig, ax =  plt.subplots(2,2)\n",
    "data['Open'].plot(ax=ax[0,0], lw=1, title='Open')\n",
    "data['High'].plot(ax=ax[0,1], lw=1, title='High')\n",
    "data['Low'].plot(ax=ax[1,0], lw=1, title='Low')\n",
    "data['Close'].plot(ax=ax[1,1], lw=1, title='Close')\n",
    "plt.tight_layout()\n",
    "plt.show()"
   ]
  },
  {
   "cell_type": "code",
   "execution_count": null,
   "id": "cd387e22-6081-40e8-ae00-18694e3671c6",
   "metadata": {},
   "outputs": [],
   "source": []
  },
  {
   "cell_type": "markdown",
   "id": "59124b2a-2a2d-48d5-a4f9-75f5b2d56293",
   "metadata": {},
   "source": [
    "## Obtençãod de dados financeiros com pandas-datareader"
   ]
  },
  {
   "cell_type": "code",
   "execution_count": 81,
   "id": "548d04a7-d5a7-455f-9a01-0a769e7770bf",
   "metadata": {},
   "outputs": [],
   "source": [
    "ticker = 'AAPL'\n",
    "start = dt.datetime(2019, 1, 1)\n",
    "end = dt.datetime(2020, 12, 31)\n",
    "\n",
    "data = pdr.get_data_yahoo(ticker, start, end)"
   ]
  },
  {
   "cell_type": "code",
   "execution_count": 82,
   "id": "09a3ed98-260a-4717-bf53-12a35ebdfd75",
   "metadata": {},
   "outputs": [
    {
     "data": {
      "text/html": [
       "<div>\n",
       "<style scoped>\n",
       "    .dataframe tbody tr th:only-of-type {\n",
       "        vertical-align: middle;\n",
       "    }\n",
       "\n",
       "    .dataframe tbody tr th {\n",
       "        vertical-align: top;\n",
       "    }\n",
       "\n",
       "    .dataframe thead th {\n",
       "        text-align: right;\n",
       "    }\n",
       "</style>\n",
       "<table border=\"1\" class=\"dataframe\">\n",
       "  <thead>\n",
       "    <tr style=\"text-align: right;\">\n",
       "      <th></th>\n",
       "      <th>High</th>\n",
       "      <th>Low</th>\n",
       "      <th>Open</th>\n",
       "      <th>Close</th>\n",
       "      <th>Volume</th>\n",
       "      <th>Adj Close</th>\n",
       "    </tr>\n",
       "    <tr>\n",
       "      <th>Date</th>\n",
       "      <th></th>\n",
       "      <th></th>\n",
       "      <th></th>\n",
       "      <th></th>\n",
       "      <th></th>\n",
       "      <th></th>\n",
       "    </tr>\n",
       "  </thead>\n",
       "  <tbody>\n",
       "    <tr>\n",
       "      <th>2019-01-02</th>\n",
       "      <td>39.712502</td>\n",
       "      <td>38.557499</td>\n",
       "      <td>38.722500</td>\n",
       "      <td>39.480000</td>\n",
       "      <td>148158800.0</td>\n",
       "      <td>38.221355</td>\n",
       "    </tr>\n",
       "    <tr>\n",
       "      <th>2019-01-03</th>\n",
       "      <td>36.430000</td>\n",
       "      <td>35.500000</td>\n",
       "      <td>35.994999</td>\n",
       "      <td>35.547501</td>\n",
       "      <td>365248800.0</td>\n",
       "      <td>34.414242</td>\n",
       "    </tr>\n",
       "    <tr>\n",
       "      <th>2019-01-04</th>\n",
       "      <td>37.137501</td>\n",
       "      <td>35.950001</td>\n",
       "      <td>36.132500</td>\n",
       "      <td>37.064999</td>\n",
       "      <td>234428400.0</td>\n",
       "      <td>35.883358</td>\n",
       "    </tr>\n",
       "    <tr>\n",
       "      <th>2019-01-07</th>\n",
       "      <td>37.207500</td>\n",
       "      <td>36.474998</td>\n",
       "      <td>37.174999</td>\n",
       "      <td>36.982498</td>\n",
       "      <td>219111200.0</td>\n",
       "      <td>35.803490</td>\n",
       "    </tr>\n",
       "    <tr>\n",
       "      <th>2019-01-08</th>\n",
       "      <td>37.955002</td>\n",
       "      <td>37.130001</td>\n",
       "      <td>37.389999</td>\n",
       "      <td>37.687500</td>\n",
       "      <td>164101200.0</td>\n",
       "      <td>36.486008</td>\n",
       "    </tr>\n",
       "  </tbody>\n",
       "</table>\n",
       "</div>"
      ],
      "text/plain": [
       "                 High        Low       Open      Close       Volume  Adj Close\n",
       "Date                                                                          \n",
       "2019-01-02  39.712502  38.557499  38.722500  39.480000  148158800.0  38.221355\n",
       "2019-01-03  36.430000  35.500000  35.994999  35.547501  365248800.0  34.414242\n",
       "2019-01-04  37.137501  35.950001  36.132500  37.064999  234428400.0  35.883358\n",
       "2019-01-07  37.207500  36.474998  37.174999  36.982498  219111200.0  35.803490\n",
       "2019-01-08  37.955002  37.130001  37.389999  37.687500  164101200.0  36.486008"
      ]
     },
     "execution_count": 82,
     "metadata": {},
     "output_type": "execute_result"
    }
   ],
   "source": [
    "data.head()"
   ]
  },
  {
   "cell_type": "code",
   "execution_count": 83,
   "id": "1b426ff5-080b-45c3-995f-44398dd79dd3",
   "metadata": {},
   "outputs": [
    {
     "data": {
      "text/html": [
       "<div>\n",
       "<style scoped>\n",
       "    .dataframe tbody tr th:only-of-type {\n",
       "        vertical-align: middle;\n",
       "    }\n",
       "\n",
       "    .dataframe tbody tr th {\n",
       "        vertical-align: top;\n",
       "    }\n",
       "\n",
       "    .dataframe thead th {\n",
       "        text-align: right;\n",
       "    }\n",
       "</style>\n",
       "<table border=\"1\" class=\"dataframe\">\n",
       "  <thead>\n",
       "    <tr style=\"text-align: right;\">\n",
       "      <th></th>\n",
       "      <th>High</th>\n",
       "      <th>Low</th>\n",
       "      <th>Open</th>\n",
       "      <th>Close</th>\n",
       "      <th>Volume</th>\n",
       "      <th>Adj Close</th>\n",
       "    </tr>\n",
       "    <tr>\n",
       "      <th>Date</th>\n",
       "      <th></th>\n",
       "      <th></th>\n",
       "      <th></th>\n",
       "      <th></th>\n",
       "      <th></th>\n",
       "      <th></th>\n",
       "    </tr>\n",
       "  </thead>\n",
       "  <tbody>\n",
       "    <tr>\n",
       "      <th>2020-12-24</th>\n",
       "      <td>133.460007</td>\n",
       "      <td>131.100006</td>\n",
       "      <td>131.320007</td>\n",
       "      <td>131.970001</td>\n",
       "      <td>54930100.0</td>\n",
       "      <td>130.802353</td>\n",
       "    </tr>\n",
       "    <tr>\n",
       "      <th>2020-12-28</th>\n",
       "      <td>137.339996</td>\n",
       "      <td>133.509995</td>\n",
       "      <td>133.990005</td>\n",
       "      <td>136.690002</td>\n",
       "      <td>124486200.0</td>\n",
       "      <td>135.480576</td>\n",
       "    </tr>\n",
       "    <tr>\n",
       "      <th>2020-12-29</th>\n",
       "      <td>138.789993</td>\n",
       "      <td>134.339996</td>\n",
       "      <td>138.050003</td>\n",
       "      <td>134.869995</td>\n",
       "      <td>121047300.0</td>\n",
       "      <td>133.676666</td>\n",
       "    </tr>\n",
       "    <tr>\n",
       "      <th>2020-12-30</th>\n",
       "      <td>135.990005</td>\n",
       "      <td>133.399994</td>\n",
       "      <td>135.580002</td>\n",
       "      <td>133.720001</td>\n",
       "      <td>96452100.0</td>\n",
       "      <td>132.536850</td>\n",
       "    </tr>\n",
       "    <tr>\n",
       "      <th>2020-12-31</th>\n",
       "      <td>134.740005</td>\n",
       "      <td>131.720001</td>\n",
       "      <td>134.080002</td>\n",
       "      <td>132.690002</td>\n",
       "      <td>99116600.0</td>\n",
       "      <td>131.515961</td>\n",
       "    </tr>\n",
       "  </tbody>\n",
       "</table>\n",
       "</div>"
      ],
      "text/plain": [
       "                  High         Low        Open       Close       Volume  \\\n",
       "Date                                                                      \n",
       "2020-12-24  133.460007  131.100006  131.320007  131.970001   54930100.0   \n",
       "2020-12-28  137.339996  133.509995  133.990005  136.690002  124486200.0   \n",
       "2020-12-29  138.789993  134.339996  138.050003  134.869995  121047300.0   \n",
       "2020-12-30  135.990005  133.399994  135.580002  133.720001   96452100.0   \n",
       "2020-12-31  134.740005  131.720001  134.080002  132.690002   99116600.0   \n",
       "\n",
       "             Adj Close  \n",
       "Date                    \n",
       "2020-12-24  130.802353  \n",
       "2020-12-28  135.480576  \n",
       "2020-12-29  133.676666  \n",
       "2020-12-30  132.536850  \n",
       "2020-12-31  131.515961  "
      ]
     },
     "execution_count": 83,
     "metadata": {},
     "output_type": "execute_result"
    }
   ],
   "source": [
    "data.tail()"
   ]
  },
  {
   "cell_type": "markdown",
   "id": "6141d83b-f595-4ed6-abc0-e7597bea93b5",
   "metadata": {},
   "source": [
    "## Cálculos simples\n",
    "\n",
    "* Retorno simples\n",
    "* Retorno Logarítmico\n",
    "* Desvio padrão (volatilidade)\n",
    "* Móveis\n",
    "    * Média móvel simples\n",
    "    * Média móvel exponencial\n",
    "    \n",
    " "
   ]
  },
  {
   "cell_type": "markdown",
   "id": "51d64a49-df81-4c59-bb19-44d9731c5cde",
   "metadata": {},
   "source": [
    "## Desvio Padrão\n",
    "\n",
    "* $\\sigma_p = \\sigma_{daily} \\times \\sqrt{p}$\n",
    "\n",
    "* \\sigma_{annually} = \\sigma_{daily} \\times \\sqrt{252}\n"
   ]
  },
  {
   "cell_type": "code",
   "execution_count": 86,
   "id": "7df4b412-9054-4fa4-8f83-64435587966b",
   "metadata": {},
   "outputs": [],
   "source": [
    "data = pd.read_csv('data/aapl.csv', index_col=0, parse_dates=True)"
   ]
  },
  {
   "cell_type": "code",
   "execution_count": 87,
   "id": "1944ba81-f464-4ee6-b0eb-886e9033aaee",
   "metadata": {},
   "outputs": [
    {
     "data": {
      "text/html": [
       "<div>\n",
       "<style scoped>\n",
       "    .dataframe tbody tr th:only-of-type {\n",
       "        vertical-align: middle;\n",
       "    }\n",
       "\n",
       "    .dataframe tbody tr th {\n",
       "        vertical-align: top;\n",
       "    }\n",
       "\n",
       "    .dataframe thead th {\n",
       "        text-align: right;\n",
       "    }\n",
       "</style>\n",
       "<table border=\"1\" class=\"dataframe\">\n",
       "  <thead>\n",
       "    <tr style=\"text-align: right;\">\n",
       "      <th></th>\n",
       "      <th>Open</th>\n",
       "      <th>High</th>\n",
       "      <th>Low</th>\n",
       "      <th>Close</th>\n",
       "      <th>Adj Close</th>\n",
       "      <th>Volume</th>\n",
       "    </tr>\n",
       "    <tr>\n",
       "      <th>Date</th>\n",
       "      <th></th>\n",
       "      <th></th>\n",
       "      <th></th>\n",
       "      <th></th>\n",
       "      <th></th>\n",
       "      <th></th>\n",
       "    </tr>\n",
       "  </thead>\n",
       "  <tbody>\n",
       "    <tr>\n",
       "      <th>2020-01-27</th>\n",
       "      <td>77.514999</td>\n",
       "      <td>77.942497</td>\n",
       "      <td>76.220001</td>\n",
       "      <td>77.237503</td>\n",
       "      <td>75.898651</td>\n",
       "      <td>161940000</td>\n",
       "    </tr>\n",
       "    <tr>\n",
       "      <th>2020-01-28</th>\n",
       "      <td>78.150002</td>\n",
       "      <td>79.599998</td>\n",
       "      <td>78.047501</td>\n",
       "      <td>79.422501</td>\n",
       "      <td>78.045776</td>\n",
       "      <td>162234000</td>\n",
       "    </tr>\n",
       "    <tr>\n",
       "      <th>2020-01-29</th>\n",
       "      <td>81.112503</td>\n",
       "      <td>81.962502</td>\n",
       "      <td>80.345001</td>\n",
       "      <td>81.084999</td>\n",
       "      <td>79.679451</td>\n",
       "      <td>216229200</td>\n",
       "    </tr>\n",
       "    <tr>\n",
       "      <th>2020-01-30</th>\n",
       "      <td>80.135002</td>\n",
       "      <td>81.022499</td>\n",
       "      <td>79.687500</td>\n",
       "      <td>80.967499</td>\n",
       "      <td>79.563995</td>\n",
       "      <td>126743200</td>\n",
       "    </tr>\n",
       "    <tr>\n",
       "      <th>2020-01-31</th>\n",
       "      <td>80.232498</td>\n",
       "      <td>80.669998</td>\n",
       "      <td>77.072502</td>\n",
       "      <td>77.377502</td>\n",
       "      <td>76.036217</td>\n",
       "      <td>199588400</td>\n",
       "    </tr>\n",
       "  </tbody>\n",
       "</table>\n",
       "</div>"
      ],
      "text/plain": [
       "                 Open       High        Low      Close  Adj Close     Volume\n",
       "Date                                                                        \n",
       "2020-01-27  77.514999  77.942497  76.220001  77.237503  75.898651  161940000\n",
       "2020-01-28  78.150002  79.599998  78.047501  79.422501  78.045776  162234000\n",
       "2020-01-29  81.112503  81.962502  80.345001  81.084999  79.679451  216229200\n",
       "2020-01-30  80.135002  81.022499  79.687500  80.967499  79.563995  126743200\n",
       "2020-01-31  80.232498  80.669998  77.072502  77.377502  76.036217  199588400"
      ]
     },
     "execution_count": 87,
     "metadata": {},
     "output_type": "execute_result"
    }
   ],
   "source": [
    "data.head()"
   ]
  },
  {
   "cell_type": "code",
   "execution_count": 88,
   "id": "027f47c4-a05f-4781-868c-861cdda0b584",
   "metadata": {},
   "outputs": [],
   "source": [
    "data['pct_chg'] = data['Close'].pct_change()"
   ]
  },
  {
   "cell_type": "code",
   "execution_count": 90,
   "id": "f560acb5-d9c8-41a4-b073-4548aa59b52e",
   "metadata": {},
   "outputs": [],
   "source": [
    "data['Log Returns'] = np.log(data['Close']) - np.log(data['Close'].shift())"
   ]
  },
  {
   "cell_type": "code",
   "execution_count": 91,
   "id": "8954bdbe-637b-4008-82c9-d83ad153da92",
   "metadata": {},
   "outputs": [
    {
     "data": {
      "text/html": [
       "<div>\n",
       "<style scoped>\n",
       "    .dataframe tbody tr th:only-of-type {\n",
       "        vertical-align: middle;\n",
       "    }\n",
       "\n",
       "    .dataframe tbody tr th {\n",
       "        vertical-align: top;\n",
       "    }\n",
       "\n",
       "    .dataframe thead th {\n",
       "        text-align: right;\n",
       "    }\n",
       "</style>\n",
       "<table border=\"1\" class=\"dataframe\">\n",
       "  <thead>\n",
       "    <tr style=\"text-align: right;\">\n",
       "      <th></th>\n",
       "      <th>Open</th>\n",
       "      <th>High</th>\n",
       "      <th>Low</th>\n",
       "      <th>Close</th>\n",
       "      <th>Adj Close</th>\n",
       "      <th>Volume</th>\n",
       "      <th>pct_chg</th>\n",
       "      <th>Log Returns</th>\n",
       "    </tr>\n",
       "    <tr>\n",
       "      <th>Date</th>\n",
       "      <th></th>\n",
       "      <th></th>\n",
       "      <th></th>\n",
       "      <th></th>\n",
       "      <th></th>\n",
       "      <th></th>\n",
       "      <th></th>\n",
       "      <th></th>\n",
       "    </tr>\n",
       "  </thead>\n",
       "  <tbody>\n",
       "    <tr>\n",
       "      <th>2020-01-27</th>\n",
       "      <td>77.514999</td>\n",
       "      <td>77.942497</td>\n",
       "      <td>76.220001</td>\n",
       "      <td>77.237503</td>\n",
       "      <td>75.898651</td>\n",
       "      <td>161940000</td>\n",
       "      <td>NaN</td>\n",
       "      <td>NaN</td>\n",
       "    </tr>\n",
       "    <tr>\n",
       "      <th>2020-01-28</th>\n",
       "      <td>78.150002</td>\n",
       "      <td>79.599998</td>\n",
       "      <td>78.047501</td>\n",
       "      <td>79.422501</td>\n",
       "      <td>78.045776</td>\n",
       "      <td>162234000</td>\n",
       "      <td>0.028289</td>\n",
       "      <td>0.027897</td>\n",
       "    </tr>\n",
       "    <tr>\n",
       "      <th>2020-01-29</th>\n",
       "      <td>81.112503</td>\n",
       "      <td>81.962502</td>\n",
       "      <td>80.345001</td>\n",
       "      <td>81.084999</td>\n",
       "      <td>79.679451</td>\n",
       "      <td>216229200</td>\n",
       "      <td>0.020932</td>\n",
       "      <td>0.020716</td>\n",
       "    </tr>\n",
       "    <tr>\n",
       "      <th>2020-01-30</th>\n",
       "      <td>80.135002</td>\n",
       "      <td>81.022499</td>\n",
       "      <td>79.687500</td>\n",
       "      <td>80.967499</td>\n",
       "      <td>79.563995</td>\n",
       "      <td>126743200</td>\n",
       "      <td>-0.001449</td>\n",
       "      <td>-0.001450</td>\n",
       "    </tr>\n",
       "    <tr>\n",
       "      <th>2020-01-31</th>\n",
       "      <td>80.232498</td>\n",
       "      <td>80.669998</td>\n",
       "      <td>77.072502</td>\n",
       "      <td>77.377502</td>\n",
       "      <td>76.036217</td>\n",
       "      <td>199588400</td>\n",
       "      <td>-0.044339</td>\n",
       "      <td>-0.045352</td>\n",
       "    </tr>\n",
       "  </tbody>\n",
       "</table>\n",
       "</div>"
      ],
      "text/plain": [
       "                 Open       High        Low      Close  Adj Close     Volume  \\\n",
       "Date                                                                           \n",
       "2020-01-27  77.514999  77.942497  76.220001  77.237503  75.898651  161940000   \n",
       "2020-01-28  78.150002  79.599998  78.047501  79.422501  78.045776  162234000   \n",
       "2020-01-29  81.112503  81.962502  80.345001  81.084999  79.679451  216229200   \n",
       "2020-01-30  80.135002  81.022499  79.687500  80.967499  79.563995  126743200   \n",
       "2020-01-31  80.232498  80.669998  77.072502  77.377502  76.036217  199588400   \n",
       "\n",
       "             pct_chg  Log Returns  \n",
       "Date                               \n",
       "2020-01-27       NaN          NaN  \n",
       "2020-01-28  0.028289     0.027897  \n",
       "2020-01-29  0.020932     0.020716  \n",
       "2020-01-30 -0.001449    -0.001450  \n",
       "2020-01-31 -0.044339    -0.045352  "
      ]
     },
     "execution_count": 91,
     "metadata": {},
     "output_type": "execute_result"
    }
   ],
   "source": [
    "data.head()"
   ]
  },
  {
   "cell_type": "code",
   "execution_count": 92,
   "id": "44b15ace-7814-4ac5-b5ac-11906342e5a9",
   "metadata": {},
   "outputs": [
    {
     "data": {
      "text/plain": [
       "0.4724126576908501"
      ]
     },
     "execution_count": 92,
     "metadata": {},
     "output_type": "execute_result"
    }
   ],
   "source": [
    "volatility = data['Log Returns'].std() * 252 ** .5\n",
    "volatility"
   ]
  },
  {
   "cell_type": "code",
   "execution_count": 100,
   "id": "2711152a-364d-4bf1-ad11-c1134eca6d6c",
   "metadata": {},
   "outputs": [
    {
     "data": {
      "text/plain": [
       "Text(0.5, 1.0, 'AAPL volatility:  47.24%')"
      ]
     },
     "execution_count": 100,
     "metadata": {},
     "output_type": "execute_result"
    },
    {
     "data": {
      "image/png": "[encoded data removed]",
      "text/plain": [
       "<Figure size 576x396 with 1 Axes>"
      ]
     },
     "metadata": {},
     "output_type": "display_data"
    }
   ],
   "source": [
    "fig, ax = plt.subplots()\n",
    "\n",
    "data['Log Returns'].hist(\n",
    "    ax = ax,\n",
    "    bins = 50,\n",
    "    alpha = .60,\n",
    "    color = 'blue',\n",
    "    edgecolor = 'white'\n",
    ")\n",
    "\n",
    "ax.set_xlabel('Log return')\n",
    "ax.set_ylabel('Frequency')\n",
    "ax.set_title(f'{ticker} volatility: {100 * volatility: 5.2f}%')"
   ]
  },
  {
   "cell_type": "markdown",
   "id": "5f23ce6f-dc94-4aff-ba10-d6477a9ebe83",
   "metadata": {},
   "source": [
    "### Média móvel"
   ]
  },
  {
   "cell_type": "code",
   "execution_count": 104,
   "id": "d6c55e48-314c-40eb-8cca-0b28b534c1ce",
   "metadata": {},
   "outputs": [
    {
     "data": {
      "text/html": [
       "<div>\n",
       "<style scoped>\n",
       "    .dataframe tbody tr th:only-of-type {\n",
       "        vertical-align: middle;\n",
       "    }\n",
       "\n",
       "    .dataframe tbody tr th {\n",
       "        vertical-align: top;\n",
       "    }\n",
       "\n",
       "    .dataframe thead th {\n",
       "        text-align: right;\n",
       "    }\n",
       "</style>\n",
       "<table border=\"1\" class=\"dataframe\">\n",
       "  <thead>\n",
       "    <tr style=\"text-align: right;\">\n",
       "      <th></th>\n",
       "      <th>Open</th>\n",
       "      <th>High</th>\n",
       "      <th>Low</th>\n",
       "      <th>Close</th>\n",
       "      <th>Adj Close</th>\n",
       "      <th>Volume</th>\n",
       "      <th>pct_chg</th>\n",
       "      <th>Log Returns</th>\n",
       "      <th>MA10</th>\n",
       "      <th>MA20</th>\n",
       "    </tr>\n",
       "    <tr>\n",
       "      <th>Date</th>\n",
       "      <th></th>\n",
       "      <th></th>\n",
       "      <th></th>\n",
       "      <th></th>\n",
       "      <th></th>\n",
       "      <th></th>\n",
       "      <th></th>\n",
       "      <th></th>\n",
       "      <th></th>\n",
       "      <th></th>\n",
       "    </tr>\n",
       "  </thead>\n",
       "  <tbody>\n",
       "    <tr>\n",
       "      <th>2021-01-20</th>\n",
       "      <td>128.660004</td>\n",
       "      <td>132.490005</td>\n",
       "      <td>128.550003</td>\n",
       "      <td>132.029999</td>\n",
       "      <td>130.861801</td>\n",
       "      <td>104319500</td>\n",
       "      <td>0.032856</td>\n",
       "      <td>0.032328</td>\n",
       "      <td>129.415000</td>\n",
       "      <td>130.779000</td>\n",
       "    </tr>\n",
       "    <tr>\n",
       "      <th>2021-01-21</th>\n",
       "      <td>133.800003</td>\n",
       "      <td>139.669998</td>\n",
       "      <td>133.589996</td>\n",
       "      <td>136.869995</td>\n",
       "      <td>135.658997</td>\n",
       "      <td>120150900</td>\n",
       "      <td>0.036658</td>\n",
       "      <td>0.036002</td>\n",
       "      <td>130.442000</td>\n",
       "      <td>131.211000</td>\n",
       "    </tr>\n",
       "    <tr>\n",
       "      <th>2021-01-22</th>\n",
       "      <td>136.279999</td>\n",
       "      <td>139.850006</td>\n",
       "      <td>135.020004</td>\n",
       "      <td>139.070007</td>\n",
       "      <td>137.839523</td>\n",
       "      <td>114459400</td>\n",
       "      <td>0.016074</td>\n",
       "      <td>0.015946</td>\n",
       "      <td>131.257001</td>\n",
       "      <td>131.570501</td>\n",
       "    </tr>\n",
       "    <tr>\n",
       "      <th>2021-01-25</th>\n",
       "      <td>143.070007</td>\n",
       "      <td>145.089996</td>\n",
       "      <td>136.539993</td>\n",
       "      <td>142.919998</td>\n",
       "      <td>141.655441</td>\n",
       "      <td>157611700</td>\n",
       "      <td>0.027684</td>\n",
       "      <td>0.027308</td>\n",
       "      <td>132.344000</td>\n",
       "      <td>132.168500</td>\n",
       "    </tr>\n",
       "    <tr>\n",
       "      <th>2021-01-26</th>\n",
       "      <td>143.600006</td>\n",
       "      <td>144.300003</td>\n",
       "      <td>141.369995</td>\n",
       "      <td>143.160004</td>\n",
       "      <td>141.893341</td>\n",
       "      <td>98390600</td>\n",
       "      <td>0.001679</td>\n",
       "      <td>0.001678</td>\n",
       "      <td>133.762001</td>\n",
       "      <td>132.728000</td>\n",
       "    </tr>\n",
       "  </tbody>\n",
       "</table>\n",
       "</div>"
      ],
      "text/plain": [
       "                  Open        High         Low       Close   Adj Close  \\\n",
       "Date                                                                     \n",
       "2021-01-20  128.660004  132.490005  128.550003  132.029999  130.861801   \n",
       "2021-01-21  133.800003  139.669998  133.589996  136.869995  135.658997   \n",
       "2021-01-22  136.279999  139.850006  135.020004  139.070007  137.839523   \n",
       "2021-01-25  143.070007  145.089996  136.539993  142.919998  141.655441   \n",
       "2021-01-26  143.600006  144.300003  141.369995  143.160004  141.893341   \n",
       "\n",
       "               Volume   pct_chg  Log Returns        MA10        MA20  \n",
       "Date                                                                  \n",
       "2021-01-20  104319500  0.032856     0.032328  129.415000  130.779000  \n",
       "2021-01-21  120150900  0.036658     0.036002  130.442000  131.211000  \n",
       "2021-01-22  114459400  0.016074     0.015946  131.257001  131.570501  \n",
       "2021-01-25  157611700  0.027684     0.027308  132.344000  132.168500  \n",
       "2021-01-26   98390600  0.001679     0.001678  133.762001  132.728000  "
      ]
     },
     "execution_count": 104,
     "metadata": {},
     "output_type": "execute_result"
    }
   ],
   "source": [
    "data['MA10'] = data['Close'].rolling(10).mean()\n",
    "data['MA20'] = data['Close'].rolling(20).mean()\n",
    "data.tail()"
   ]
  },
  {
   "cell_type": "code",
   "execution_count": 109,
   "id": "c9d790ad-04bf-4a0c-a7b6-4afc05321c3a",
   "metadata": {},
   "outputs": [],
   "source": [
    "data['EM10'] = data['Close'].ewm(span=10, adjust=False).mean()\n",
    "data['EM20'] = data['Close'].ewm(span=20, adjust=False).mean()"
   ]
  },
  {
   "cell_type": "code",
   "execution_count": 110,
   "id": "582e2fca-e406-48ce-9703-f36b4155e51f",
   "metadata": {},
   "outputs": [
    {
     "data": {
      "text/html": [
       "<div>\n",
       "<style scoped>\n",
       "    .dataframe tbody tr th:only-of-type {\n",
       "        vertical-align: middle;\n",
       "    }\n",
       "\n",
       "    .dataframe tbody tr th {\n",
       "        vertical-align: top;\n",
       "    }\n",
       "\n",
       "    .dataframe thead th {\n",
       "        text-align: right;\n",
       "    }\n",
       "</style>\n",
       "<table border=\"1\" class=\"dataframe\">\n",
       "  <thead>\n",
       "    <tr style=\"text-align: right;\">\n",
       "      <th></th>\n",
       "      <th>Open</th>\n",
       "      <th>High</th>\n",
       "      <th>Low</th>\n",
       "      <th>Close</th>\n",
       "      <th>Adj Close</th>\n",
       "      <th>Volume</th>\n",
       "      <th>pct_chg</th>\n",
       "      <th>Log Returns</th>\n",
       "      <th>MA10</th>\n",
       "      <th>MA20</th>\n",
       "      <th>EM10</th>\n",
       "      <th>EM20</th>\n",
       "    </tr>\n",
       "    <tr>\n",
       "      <th>Date</th>\n",
       "      <th></th>\n",
       "      <th></th>\n",
       "      <th></th>\n",
       "      <th></th>\n",
       "      <th></th>\n",
       "      <th></th>\n",
       "      <th></th>\n",
       "      <th></th>\n",
       "      <th></th>\n",
       "      <th></th>\n",
       "      <th></th>\n",
       "      <th></th>\n",
       "    </tr>\n",
       "  </thead>\n",
       "  <tbody>\n",
       "    <tr>\n",
       "      <th>2021-01-20</th>\n",
       "      <td>128.660004</td>\n",
       "      <td>132.490005</td>\n",
       "      <td>128.550003</td>\n",
       "      <td>132.029999</td>\n",
       "      <td>130.861801</td>\n",
       "      <td>104319500</td>\n",
       "      <td>0.032856</td>\n",
       "      <td>0.032328</td>\n",
       "      <td>129.415000</td>\n",
       "      <td>130.779000</td>\n",
       "      <td>129.703820</td>\n",
       "      <td>129.199030</td>\n",
       "    </tr>\n",
       "    <tr>\n",
       "      <th>2021-01-21</th>\n",
       "      <td>133.800003</td>\n",
       "      <td>139.669998</td>\n",
       "      <td>133.589996</td>\n",
       "      <td>136.869995</td>\n",
       "      <td>135.658997</td>\n",
       "      <td>120150900</td>\n",
       "      <td>0.036658</td>\n",
       "      <td>0.036002</td>\n",
       "      <td>130.442000</td>\n",
       "      <td>131.211000</td>\n",
       "      <td>131.006761</td>\n",
       "      <td>129.929598</td>\n",
       "    </tr>\n",
       "    <tr>\n",
       "      <th>2021-01-22</th>\n",
       "      <td>136.279999</td>\n",
       "      <td>139.850006</td>\n",
       "      <td>135.020004</td>\n",
       "      <td>139.070007</td>\n",
       "      <td>137.839523</td>\n",
       "      <td>114459400</td>\n",
       "      <td>0.016074</td>\n",
       "      <td>0.015946</td>\n",
       "      <td>131.257001</td>\n",
       "      <td>131.570501</td>\n",
       "      <td>132.472806</td>\n",
       "      <td>130.800114</td>\n",
       "    </tr>\n",
       "    <tr>\n",
       "      <th>2021-01-25</th>\n",
       "      <td>143.070007</td>\n",
       "      <td>145.089996</td>\n",
       "      <td>136.539993</td>\n",
       "      <td>142.919998</td>\n",
       "      <td>141.655441</td>\n",
       "      <td>157611700</td>\n",
       "      <td>0.027684</td>\n",
       "      <td>0.027308</td>\n",
       "      <td>132.344000</td>\n",
       "      <td>132.168500</td>\n",
       "      <td>134.372295</td>\n",
       "      <td>131.954388</td>\n",
       "    </tr>\n",
       "    <tr>\n",
       "      <th>2021-01-26</th>\n",
       "      <td>143.600006</td>\n",
       "      <td>144.300003</td>\n",
       "      <td>141.369995</td>\n",
       "      <td>143.160004</td>\n",
       "      <td>141.893341</td>\n",
       "      <td>98390600</td>\n",
       "      <td>0.001679</td>\n",
       "      <td>0.001678</td>\n",
       "      <td>133.762001</td>\n",
       "      <td>132.728000</td>\n",
       "      <td>135.970060</td>\n",
       "      <td>133.021590</td>\n",
       "    </tr>\n",
       "  </tbody>\n",
       "</table>\n",
       "</div>"
      ],
      "text/plain": [
       "                  Open        High         Low       Close   Adj Close  \\\n",
       "Date                                                                     \n",
       "2021-01-20  128.660004  132.490005  128.550003  132.029999  130.861801   \n",
       "2021-01-21  133.800003  139.669998  133.589996  136.869995  135.658997   \n",
       "2021-01-22  136.279999  139.850006  135.020004  139.070007  137.839523   \n",
       "2021-01-25  143.070007  145.089996  136.539993  142.919998  141.655441   \n",
       "2021-01-26  143.600006  144.300003  141.369995  143.160004  141.893341   \n",
       "\n",
       "               Volume   pct_chg  Log Returns        MA10        MA20  \\\n",
       "Date                                                                   \n",
       "2021-01-20  104319500  0.032856     0.032328  129.415000  130.779000   \n",
       "2021-01-21  120150900  0.036658     0.036002  130.442000  131.211000   \n",
       "2021-01-22  114459400  0.016074     0.015946  131.257001  131.570501   \n",
       "2021-01-25  157611700  0.027684     0.027308  132.344000  132.168500   \n",
       "2021-01-26   98390600  0.001679     0.001678  133.762001  132.728000   \n",
       "\n",
       "                  EM10        EM20  \n",
       "Date                                \n",
       "2021-01-20  129.703820  129.199030  \n",
       "2021-01-21  131.006761  129.929598  \n",
       "2021-01-22  132.472806  130.800114  \n",
       "2021-01-25  134.372295  131.954388  \n",
       "2021-01-26  135.970060  133.021590  "
      ]
     },
     "execution_count": 110,
     "metadata": {},
     "output_type": "execute_result"
    }
   ],
   "source": [
    "data.tail()"
   ]
  },
  {
   "cell_type": "code",
   "execution_count": 120,
   "id": "fb29ad6d-57c2-4182-908e-7f130876aa54",
   "metadata": {},
   "outputs": [
    {
     "data": {
      "text/plain": [
       "<AxesSubplot:xlabel='Date'>"
      ]
     },
     "execution_count": 120,
     "metadata": {},
     "output_type": "execute_result"
    },
    {
     "data": {
      "image/png": "[encoded data removed]",
      "text/plain": [
       "<Figure size 576x396 with 1 Axes>"
      ]
     },
     "metadata": {},
     "output_type": "display_data"
    }
   ],
   "source": [
    "fig, ax = plt.subplots()\n",
    "data[['MA10', 'EM10']].plot(ax=ax)\n",
    "data['Close'].plot(ax = ax, alpha = .3, color='r')"
   ]
  },
  {
   "cell_type": "markdown",
   "id": "497d3755-13c0-4c27-bb4f-bd0e20b0cb2e",
   "metadata": {},
   "source": [
    "## Moving Average Convergence Divergence (MACD)"
   ]
  },
  {
   "cell_type": "markdown",
   "id": "d49e010d-ba8e-40ab-866c-1190d22ddb49",
   "metadata": {},
   "source": [
    "* MACD = 12-Period EMA - 26-Period EMA\n",
    "* Signal line 9-Period EMA of MACD"
   ]
  },
  {
   "cell_type": "code",
   "execution_count": 122,
   "id": "37e629ff-1251-466f-9164-8c30ed0ec3bf",
   "metadata": {},
   "outputs": [],
   "source": [
    "data = pd.read_csv('data/aapl.csv', index_col=0, parse_dates=True)"
   ]
  },
  {
   "cell_type": "code",
   "execution_count": 123,
   "id": "f5718e86-95cf-4256-bfc6-9f17e53e95c7",
   "metadata": {},
   "outputs": [],
   "source": [
    "exp1 = data['Close'].ewm(span=12, adjust=False).mean()\n",
    "exp2 = data['Close'].ewm(span=26, adjust=False).mean()\n",
    "\n",
    "data['MACD'] = exp1 - exp2"
   ]
  },
  {
   "cell_type": "code",
   "execution_count": 124,
   "id": "6be7afdd-e01c-4e23-89c5-58fa763e85fc",
   "metadata": {},
   "outputs": [],
   "source": [
    "data['Signal line'] = data['MACD'].ewm(span=9, adjust=False).mean()"
   ]
  },
  {
   "cell_type": "code",
   "execution_count": 125,
   "id": "a7e9156a-999c-4e27-ac75-ab67e0aae992",
   "metadata": {},
   "outputs": [
    {
     "data": {
      "text/html": [
       "<div>\n",
       "<style scoped>\n",
       "    .dataframe tbody tr th:only-of-type {\n",
       "        vertical-align: middle;\n",
       "    }\n",
       "\n",
       "    .dataframe tbody tr th {\n",
       "        vertical-align: top;\n",
       "    }\n",
       "\n",
       "    .dataframe thead th {\n",
       "        text-align: right;\n",
       "    }\n",
       "</style>\n",
       "<table border=\"1\" class=\"dataframe\">\n",
       "  <thead>\n",
       "    <tr style=\"text-align: right;\">\n",
       "      <th></th>\n",
       "      <th>Open</th>\n",
       "      <th>High</th>\n",
       "      <th>Low</th>\n",
       "      <th>Close</th>\n",
       "      <th>Adj Close</th>\n",
       "      <th>Volume</th>\n",
       "      <th>MACD</th>\n",
       "      <th>Signal line</th>\n",
       "    </tr>\n",
       "    <tr>\n",
       "      <th>Date</th>\n",
       "      <th></th>\n",
       "      <th></th>\n",
       "      <th></th>\n",
       "      <th></th>\n",
       "      <th></th>\n",
       "      <th></th>\n",
       "      <th></th>\n",
       "      <th></th>\n",
       "    </tr>\n",
       "  </thead>\n",
       "  <tbody>\n",
       "    <tr>\n",
       "      <th>2021-01-20</th>\n",
       "      <td>128.660004</td>\n",
       "      <td>132.490005</td>\n",
       "      <td>128.550003</td>\n",
       "      <td>132.029999</td>\n",
       "      <td>130.861801</td>\n",
       "      <td>104319500</td>\n",
       "      <td>1.168345</td>\n",
       "      <td>1.733879</td>\n",
       "    </tr>\n",
       "    <tr>\n",
       "      <th>2021-01-21</th>\n",
       "      <td>133.800003</td>\n",
       "      <td>139.669998</td>\n",
       "      <td>133.589996</td>\n",
       "      <td>136.869995</td>\n",
       "      <td>135.658997</td>\n",
       "      <td>120150900</td>\n",
       "      <td>1.653950</td>\n",
       "      <td>1.717893</td>\n",
       "    </tr>\n",
       "    <tr>\n",
       "      <th>2021-01-22</th>\n",
       "      <td>136.279999</td>\n",
       "      <td>139.850006</td>\n",
       "      <td>135.020004</td>\n",
       "      <td>139.070007</td>\n",
       "      <td>137.839523</td>\n",
       "      <td>114459400</td>\n",
       "      <td>2.191061</td>\n",
       "      <td>1.812527</td>\n",
       "    </tr>\n",
       "    <tr>\n",
       "      <th>2021-01-25</th>\n",
       "      <td>143.070007</td>\n",
       "      <td>145.089996</td>\n",
       "      <td>136.539993</td>\n",
       "      <td>142.919998</td>\n",
       "      <td>141.655441</td>\n",
       "      <td>157611700</td>\n",
       "      <td>2.894027</td>\n",
       "      <td>2.028827</td>\n",
       "    </tr>\n",
       "    <tr>\n",
       "      <th>2021-01-26</th>\n",
       "      <td>143.600006</td>\n",
       "      <td>144.300003</td>\n",
       "      <td>141.369995</td>\n",
       "      <td>143.160004</td>\n",
       "      <td>141.893341</td>\n",
       "      <td>98390600</td>\n",
       "      <td>3.430948</td>\n",
       "      <td>2.309251</td>\n",
       "    </tr>\n",
       "  </tbody>\n",
       "</table>\n",
       "</div>"
      ],
      "text/plain": [
       "                  Open        High         Low       Close   Adj Close  \\\n",
       "Date                                                                     \n",
       "2021-01-20  128.660004  132.490005  128.550003  132.029999  130.861801   \n",
       "2021-01-21  133.800003  139.669998  133.589996  136.869995  135.658997   \n",
       "2021-01-22  136.279999  139.850006  135.020004  139.070007  137.839523   \n",
       "2021-01-25  143.070007  145.089996  136.539993  142.919998  141.655441   \n",
       "2021-01-26  143.600006  144.300003  141.369995  143.160004  141.893341   \n",
       "\n",
       "               Volume      MACD  Signal line  \n",
       "Date                                          \n",
       "2021-01-20  104319500  1.168345     1.733879  \n",
       "2021-01-21  120150900  1.653950     1.717893  \n",
       "2021-01-22  114459400  2.191061     1.812527  \n",
       "2021-01-25  157611700  2.894027     2.028827  \n",
       "2021-01-26   98390600  3.430948     2.309251  "
      ]
     },
     "execution_count": 125,
     "metadata": {},
     "output_type": "execute_result"
    }
   ],
   "source": [
    "data.tail()"
   ]
  },
  {
   "cell_type": "code",
   "execution_count": 143,
   "id": "2dab0ec2-08bb-46f1-8b05-3b2856a83dd7",
   "metadata": {},
   "outputs": [
    {
     "data": {
      "image/png": "[encoded data removed]",
      "text/plain": [
       "<Figure size 576x396 with 2 Axes>"
      ]
     },
     "metadata": {},
     "output_type": "display_data"
    }
   ],
   "source": [
    "fig, ax = plt.subplots()\n",
    "data['Close'].plot(ax = ax, alpha=0.3, secondary_y=True, color='r')\n",
    "data[['MACD', 'Signal line']].plot(ax = ax, ylabel='Indicadores').legend(loc='upper right')\n",
    "plt.xlabel('Data')\n",
    "plt.ylabel('Preço de fechamento (U$)', rotation=-90)\n",
    "plt.tight_layout()\n",
    "plt.show()"
   ]
  },
  {
   "cell_type": "markdown",
   "id": "7833b245-85d5-43b9-967e-cd2eb036496a",
   "metadata": {},
   "source": [
    "## Oscilador estocástico"
   ]
  },
  {
   "cell_type": "code",
   "execution_count": 149,
   "id": "26a87684-7a73-4384-9a7f-b86e7b2576f6",
   "metadata": {},
   "outputs": [],
   "source": [
    "high14 = data['High'].rolling(14).max()\n",
    "low14 = data['Low'].rolling(14).min()\n",
    "\n",
    "data['%K'] = (data['Close'] - low14)*100 / (high14 - low14)\n",
    "data['%D'] = data['%K'].rolling(3).mean()"
   ]
  },
  {
   "cell_type": "code",
   "execution_count": 150,
   "id": "afffeff5-054b-42b6-94a1-cad02011885d",
   "metadata": {},
   "outputs": [
    {
     "data": {
      "text/html": [
       "<div>\n",
       "<style scoped>\n",
       "    .dataframe tbody tr th:only-of-type {\n",
       "        vertical-align: middle;\n",
       "    }\n",
       "\n",
       "    .dataframe tbody tr th {\n",
       "        vertical-align: top;\n",
       "    }\n",
       "\n",
       "    .dataframe thead th {\n",
       "        text-align: right;\n",
       "    }\n",
       "</style>\n",
       "<table border=\"1\" class=\"dataframe\">\n",
       "  <thead>\n",
       "    <tr style=\"text-align: right;\">\n",
       "      <th></th>\n",
       "      <th>Open</th>\n",
       "      <th>High</th>\n",
       "      <th>Low</th>\n",
       "      <th>Close</th>\n",
       "      <th>Adj Close</th>\n",
       "      <th>Volume</th>\n",
       "      <th>MACD</th>\n",
       "      <th>Signal line</th>\n",
       "      <th>%K</th>\n",
       "      <th>%D</th>\n",
       "    </tr>\n",
       "    <tr>\n",
       "      <th>Date</th>\n",
       "      <th></th>\n",
       "      <th></th>\n",
       "      <th></th>\n",
       "      <th></th>\n",
       "      <th></th>\n",
       "      <th></th>\n",
       "      <th></th>\n",
       "      <th></th>\n",
       "      <th></th>\n",
       "      <th></th>\n",
       "    </tr>\n",
       "  </thead>\n",
       "  <tbody>\n",
       "    <tr>\n",
       "      <th>2021-01-20</th>\n",
       "      <td>128.660004</td>\n",
       "      <td>132.490005</td>\n",
       "      <td>128.550003</td>\n",
       "      <td>132.029999</td>\n",
       "      <td>130.861801</td>\n",
       "      <td>104319500</td>\n",
       "      <td>1.168345</td>\n",
       "      <td>1.733879</td>\n",
       "      <td>58.792890</td>\n",
       "      <td>25.533723</td>\n",
       "    </tr>\n",
       "    <tr>\n",
       "      <th>2021-01-21</th>\n",
       "      <td>133.800003</td>\n",
       "      <td>139.669998</td>\n",
       "      <td>133.589996</td>\n",
       "      <td>136.869995</td>\n",
       "      <td>135.658997</td>\n",
       "      <td>120150900</td>\n",
       "      <td>1.653950</td>\n",
       "      <td>1.717893</td>\n",
       "      <td>78.931506</td>\n",
       "      <td>49.802854</td>\n",
       "    </tr>\n",
       "    <tr>\n",
       "      <th>2021-01-22</th>\n",
       "      <td>136.279999</td>\n",
       "      <td>139.850006</td>\n",
       "      <td>135.020004</td>\n",
       "      <td>139.070007</td>\n",
       "      <td>137.839523</td>\n",
       "      <td>114459400</td>\n",
       "      <td>2.191061</td>\n",
       "      <td>1.812527</td>\n",
       "      <td>94.209367</td>\n",
       "      <td>77.311254</td>\n",
       "    </tr>\n",
       "    <tr>\n",
       "      <th>2021-01-25</th>\n",
       "      <td>143.070007</td>\n",
       "      <td>145.089996</td>\n",
       "      <td>136.539993</td>\n",
       "      <td>142.919998</td>\n",
       "      <td>141.655441</td>\n",
       "      <td>157611700</td>\n",
       "      <td>2.894027</td>\n",
       "      <td>2.028827</td>\n",
       "      <td>88.401933</td>\n",
       "      <td>87.180935</td>\n",
       "    </tr>\n",
       "    <tr>\n",
       "      <th>2021-01-26</th>\n",
       "      <td>143.600006</td>\n",
       "      <td>144.300003</td>\n",
       "      <td>141.369995</td>\n",
       "      <td>143.160004</td>\n",
       "      <td>141.893341</td>\n",
       "      <td>98390600</td>\n",
       "      <td>3.430948</td>\n",
       "      <td>2.309251</td>\n",
       "      <td>89.684699</td>\n",
       "      <td>90.765333</td>\n",
       "    </tr>\n",
       "  </tbody>\n",
       "</table>\n",
       "</div>"
      ],
      "text/plain": [
       "                  Open        High         Low       Close   Adj Close  \\\n",
       "Date                                                                     \n",
       "2021-01-20  128.660004  132.490005  128.550003  132.029999  130.861801   \n",
       "2021-01-21  133.800003  139.669998  133.589996  136.869995  135.658997   \n",
       "2021-01-22  136.279999  139.850006  135.020004  139.070007  137.839523   \n",
       "2021-01-25  143.070007  145.089996  136.539993  142.919998  141.655441   \n",
       "2021-01-26  143.600006  144.300003  141.369995  143.160004  141.893341   \n",
       "\n",
       "               Volume      MACD  Signal line         %K         %D  \n",
       "Date                                                                \n",
       "2021-01-20  104319500  1.168345     1.733879  58.792890  25.533723  \n",
       "2021-01-21  120150900  1.653950     1.717893  78.931506  49.802854  \n",
       "2021-01-22  114459400  2.191061     1.812527  94.209367  77.311254  \n",
       "2021-01-25  157611700  2.894027     2.028827  88.401933  87.180935  \n",
       "2021-01-26   98390600  3.430948     2.309251  89.684699  90.765333  "
      ]
     },
     "execution_count": 150,
     "metadata": {},
     "output_type": "execute_result"
    }
   ],
   "source": [
    "data.tail()"
   ]
  },
  {
   "cell_type": "code",
   "execution_count": 156,
   "id": "a4d75e7c-1b51-4ebc-8910-e2a195ea7e87",
   "metadata": {},
   "outputs": [
    {
     "data": {
      "text/plain": [
       "<matplotlib.lines.Line2D at 0x7f3423cc47f0>"
      ]
     },
     "execution_count": 156,
     "metadata": {},
     "output_type": "execute_result"
    },
    {
     "data": {
      "image/png": "[encoded data removed]",
      "text/plain": [
       "<Figure size 576x396 with 1 Axes>"
      ]
     },
     "metadata": {},
     "output_type": "display_data"
    }
   ],
   "source": [
    "fig, ax = plt.subplots()\n",
    "data[['%K', '%D']].loc['2020-11-01':].plot(ax=ax)\n",
    "ax.axhline(80, c='r', alpha=0.5)\n",
    "ax.axhline(20, c='r', alpha=0.5)"
   ]
  },
  {
   "cell_type": "code",
   "execution_count": null,
   "id": "fb01718a-e524-439d-a585-b80632975158",
   "metadata": {},
   "outputs": [],
   "source": []
  }
 ],
 "metadata": {
  "kernelspec": {
   "display_name": "venv",
   "language": "python",
   "name": "venv"
  },
  "language_info": {
   "codemirror_mode": {
    "name": "ipython",
    "version": 3
   },
   "file_extension": ".py",
   "mimetype": "text/x-python",
   "name": "python",
   "nbconvert_exporter": "python",
   "pygments_lexer": "ipython3",
   "version": "3.9.12"
  }
 },
 "nbformat": 4,
 "nbformat_minor": 5
}
